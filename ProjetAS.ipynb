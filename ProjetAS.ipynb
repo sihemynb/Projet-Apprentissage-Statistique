{
 "cells": [
  {
   "cell_type": "code",
   "execution_count": 37,
   "id": "17f3b4ca-04c5-4f30-9f11-74b7d3e5b6be",
   "metadata": {},
   "outputs": [],
   "source": [
    "#Projet de Sihem Yenbou et de Güney Naz Tümüklü"
   ]
  },
  {
   "cell_type": "code",
   "execution_count": null,
   "id": "d781bd56-2a23-49c1-b018-0a83c80bb8d8",
   "metadata": {},
   "outputs": [],
   "source": [
    "pip install --user tensorflow==2.15.0 numpy==1.23.5 pandas==1.5.3 matplotlib==3.7.1"
   ]
  },
  {
   "cell_type": "code",
   "execution_count": 1,
   "id": "6649c735-26c9-44b8-aeb1-49a7a8224eda",
   "metadata": {},
   "outputs": [],
   "source": [
    "#Import \n",
    "import pandas as pd \n",
    "import numpy as np\n",
    "import matplotlib.pyplot as plt"
   ]
  },
  {
   "cell_type": "code",
   "execution_count": null,
   "id": "a31d849e-470e-4d15-b936-918dbd2338b6",
   "metadata": {},
   "outputs": [],
   "source": [
    "import tensorflow as tf"
   ]
  },
  {
   "cell_type": "code",
   "execution_count": 5,
   "id": "fd1940bb-650b-4702-add5-3d4850eac0fb",
   "metadata": {},
   "outputs": [],
   "source": [
    "from tensorflow.keras.models import Sequential\n",
    "from tensorflow.keras.layers import Dense"
   ]
  },
  {
   "cell_type": "code",
   "execution_count": 7,
   "id": "3a6777eb-aefe-46d1-a6cf-b38ca37163dc",
   "metadata": {},
   "outputs": [
    {
     "name": "stdout",
     "output_type": "stream",
     "text": [
      "                      date  Appliances  lights         T1       RH_1  \\\n",
      "0      2016-01-11 17:00:00          60      30  19.890000  47.596667   \n",
      "1      2016-01-11 17:10:00          60      30  19.890000  46.693333   \n",
      "2      2016-01-11 17:20:00          50      30  19.890000  46.300000   \n",
      "3      2016-01-11 17:30:00          50      40  19.890000  46.066667   \n",
      "4      2016-01-11 17:40:00          60      40  19.890000  46.333333   \n",
      "...                    ...         ...     ...        ...        ...   \n",
      "19730  2016-05-27 17:20:00         100       0  25.566667  46.560000   \n",
      "19731  2016-05-27 17:30:00          90       0  25.500000  46.500000   \n",
      "19732  2016-05-27 17:40:00         270      10  25.500000  46.596667   \n",
      "19733  2016-05-27 17:50:00         420      10  25.500000  46.990000   \n",
      "19734  2016-05-27 18:00:00         430      10  25.500000  46.600000   \n",
      "\n",
      "              T2       RH_2         T3       RH_3         T4  ...         T9  \\\n",
      "0      19.200000  44.790000  19.790000  44.730000  19.000000  ...  17.033333   \n",
      "1      19.200000  44.722500  19.790000  44.790000  19.000000  ...  17.066667   \n",
      "2      19.200000  44.626667  19.790000  44.933333  18.926667  ...  17.000000   \n",
      "3      19.200000  44.590000  19.790000  45.000000  18.890000  ...  17.000000   \n",
      "4      19.200000  44.530000  19.790000  45.000000  18.890000  ...  17.000000   \n",
      "...          ...        ...        ...        ...        ...  ...        ...   \n",
      "19730  25.890000  42.025714  27.200000  41.163333  24.700000  ...  23.200000   \n",
      "19731  25.754000  42.080000  27.133333  41.223333  24.700000  ...  23.200000   \n",
      "19732  25.628571  42.768571  27.050000  41.690000  24.700000  ...  23.200000   \n",
      "19733  25.414000  43.036000  26.890000  41.290000  24.700000  ...  23.200000   \n",
      "19734  25.264286  42.971429  26.823333  41.156667  24.700000  ...  23.200000   \n",
      "\n",
      "          RH_9      T_out  Press_mm_hg     RH_out  Windspeed  Visibility  \\\n",
      "0      45.5300   6.600000        733.5  92.000000   7.000000   63.000000   \n",
      "1      45.5600   6.483333        733.6  92.000000   6.666667   59.166667   \n",
      "2      45.5000   6.366667        733.7  92.000000   6.333333   55.333333   \n",
      "3      45.4000   6.250000        733.8  92.000000   6.000000   51.500000   \n",
      "4      45.4000   6.133333        733.9  92.000000   5.666667   47.666667   \n",
      "...        ...        ...          ...        ...        ...         ...   \n",
      "19730  46.7900  22.733333        755.2  55.666667   3.333333   23.666667   \n",
      "19731  46.7900  22.600000        755.2  56.000000   3.500000   24.500000   \n",
      "19732  46.7900  22.466667        755.2  56.333333   3.666667   25.333333   \n",
      "19733  46.8175  22.333333        755.2  56.666667   3.833333   26.166667   \n",
      "19734  46.8450  22.200000        755.2  57.000000   4.000000   27.000000   \n",
      "\n",
      "       Tdewpoint        rv1        rv2  \n",
      "0       5.300000  13.275433  13.275433  \n",
      "1       5.200000  18.606195  18.606195  \n",
      "2       5.100000  28.642668  28.642668  \n",
      "3       5.000000  45.410389  45.410389  \n",
      "4       4.900000  10.084097  10.084097  \n",
      "...          ...        ...        ...  \n",
      "19730  13.333333  43.096812  43.096812  \n",
      "19731  13.300000  49.282940  49.282940  \n",
      "19732  13.266667  29.199117  29.199117  \n",
      "19733  13.233333   6.322784   6.322784  \n",
      "19734  13.200000  34.118851  34.118851  \n",
      "\n",
      "[19735 rows x 29 columns]\n"
     ]
    }
   ],
   "source": [
    "#Analyse descriptives des données\n",
    "energydata = pd.read_csv(\"energydata_complete.csv\")\n",
    "print(energydata)"
   ]
  },
  {
   "cell_type": "code",
   "execution_count": 9,
   "id": "20655184-ab5f-4817-b773-e66757e01ab0",
   "metadata": {},
   "outputs": [
    {
     "data": {
      "text/plain": [
       "572315"
      ]
     },
     "execution_count": 9,
     "metadata": {},
     "output_type": "execute_result"
    }
   ],
   "source": [
    "energydata.size"
   ]
  },
  {
   "cell_type": "code",
   "execution_count": 7,
   "id": "34170bc7-a2d3-40b9-a69f-ac842af99d5a",
   "metadata": {},
   "outputs": [],
   "source": [
    "#Nous avons une base de données qui comportent 19735 lignes pour 29 colonnes. Cela donne un total de 572315 données.\n",
    "#Les colonnes réprensentent les variables (température, humidité...).\n",
    "#Nous avons donc 29 variables :\n",
    "#Les variables Ti, i allant de 1 à 9, représentent la température mesurée de plusieurs pièces d'un bâtiment et la température extérieure (To et T6).\n",
    "#Les variables RH_i, i allant de 1 à 9, représentent l'humidité mesurée de plusieurs pièces d'un bâtiment et l'humidité extérieure (RH_out et RH_6).\n",
    "#Il y a également des variables représentant d'autres facteurs météorologiques (vitesse du vent, pression, point de rosée...).\n",
    "#Enfin, nous avons 2 variables aléatoires rv1 et rv2 qui nous permettront de tester le modèle de régression choisi et implémenté."
   ]
  },
  {
   "cell_type": "code",
   "execution_count": 9,
   "id": "0334446e-f1e9-419a-bb9b-c74e25220cb3",
   "metadata": {},
   "outputs": [],
   "source": [
    "#La colonne Appliances représente l'énergie utilisée en Wh (Watt par heure), c'est notre cible. "
   ]
  },
  {
   "cell_type": "code",
   "execution_count": 11,
   "id": "96f35243-ca7b-49a0-b2a9-d77bff3e42d6",
   "metadata": {},
   "outputs": [],
   "source": [
    "#Les lignes représentent la date et l'heure à laquelle la température et l'humidité de chaque pièce/endroit a été mesuré.\n",
    "#Ces mesures ont été collectées toutes les 10 minutes pendant environ 4,5 mois."
   ]
  },
  {
   "cell_type": "code",
   "execution_count": 11,
   "id": "ffbe7e81-6e9c-4243-a68c-9404aa7aa035",
   "metadata": {},
   "outputs": [
    {
     "data": {
      "text/plain": [
       "(19735, 27)"
      ]
     },
     "execution_count": 11,
     "metadata": {},
     "output_type": "execute_result"
    }
   ],
   "source": [
    "#Séparation des données en données d'entraînement et de validation pour la comparaison des méthodes\n",
    "from sklearn.preprocessing import StandardScaler\n",
    "sc = StandardScaler()\n",
    "X = sc.fit_transform(energydata.iloc[:,2:])\n",
    "\n",
    "np.shape(X)"
   ]
  },
  {
   "cell_type": "code",
   "execution_count": 13,
   "id": "6a6e229f-f7e3-44f0-9fa7-ed5d1f9ce429",
   "metadata": {},
   "outputs": [
    {
     "data": {
      "text/plain": [
       "(15000, 27)"
      ]
     },
     "execution_count": 13,
     "metadata": {},
     "output_type": "execute_result"
    }
   ],
   "source": [
    "#Données d'entraînement\n",
    "nbdatatrain = 15000\n",
    "X_train = X[:nbdatatrain,:] \n",
    "Y_train = energydata.iloc[:nbdatatrain,1] \n",
    "np.shape(X_train)"
   ]
  },
  {
   "cell_type": "code",
   "execution_count": 15,
   "id": "cb31cd17-7b0a-4d26-8f5e-a738b92103b2",
   "metadata": {},
   "outputs": [
    {
     "data": {
      "text/plain": [
       "(15000,)"
      ]
     },
     "execution_count": 15,
     "metadata": {},
     "output_type": "execute_result"
    }
   ],
   "source": [
    "np.shape(Y_train)"
   ]
  },
  {
   "cell_type": "code",
   "execution_count": 17,
   "id": "f0334184-0850-40eb-824e-4914eaa46dae",
   "metadata": {},
   "outputs": [
    {
     "data": {
      "text/plain": [
       "(4735, 27)"
      ]
     },
     "execution_count": 17,
     "metadata": {},
     "output_type": "execute_result"
    }
   ],
   "source": [
    "#Données de validation\n",
    "X_test  = X[nbdatatrain:,:] \n",
    "Y_test  = energydata.iloc[nbdatatrain:,1] \n",
    "np.shape(X_test)"
   ]
  },
  {
   "cell_type": "code",
   "execution_count": 19,
   "id": "0bbb40c6-3915-44b8-a8a4-391aa39708f6",
   "metadata": {},
   "outputs": [
    {
     "data": {
      "text/plain": [
       "(4735,)"
      ]
     },
     "execution_count": 19,
     "metadata": {},
     "output_type": "execute_result"
    }
   ],
   "source": [
    "np.shape(Y_test)"
   ]
  },
  {
   "cell_type": "code",
   "execution_count": null,
   "id": "47ec0453-ffb5-4d0d-a5db-7a102f63901c",
   "metadata": {},
   "outputs": [],
   "source": [
    "#Présentation de la régression Lasso avec pénalisation et des hyperparamètres dont elle dépend"
   ]
  },
  {
   "cell_type": "markdown",
   "id": "159871d1-9fb4-4903-8d82-e9a19b96d8c4",
   "metadata": {},
   "source": [
    "## Régression Lasso avec pénalisation\n",
    "\n",
    "Dans ce projet, nous cherchons à prédire la consommation d’énergie des appareils ménagers (colonne `Appliances`, exprimée en Wh) à partir de variables environnementales et électriques mesurées dans un foyer.\n",
    "\n",
    "La régression Lasso (Least Absolute Shrinkage and Selection Operator) est une méthode de régression linéaire pénalisée, qui permet à la fois d’améliorer la performance du modèle en réduisant le surapprentissage et de réaliser une sélection automatique de variables en annulant certains coefficients.\n",
    "\n",
    "Le modèle s’écrit sous la forme suivante :\n",
    "$\n",
    "Y = X \\beta + \\varepsilon,\n",
    "$\n",
    "où :\n",
    "- ($ Y \\in \\mathbb{R}^n $) représente la consommation d’énergie (notre variable cible),\n",
    "- ($ X \\in \\mathbb{R}^{n \\times d} $) est la matrice des variables explicatives (température, humidité, tension, intensité, etc.),\n",
    "- ($ \\beta \\in \\mathbb{R}^d $) est le vecteur des coefficients à estimer,\n",
    "- ($ \\varepsilon $) est le terme d’erreur.\n",
    "\n",
    "Ici n = 15000 et d = 27.\n",
    "\n",
    "L’estimateur Lasso consiste à minimiser la fonction de coût suivante :\n",
    "$\n",
    "\\widehat{\\beta} = \\underset{\\beta \\in \\mathbb{R}^d}{\\arg\\min} \\left( \\frac{1}{n} \\| Y - X\\beta \\|_2^2 + \\lambda \\| \\beta \\|_1 \\right),\n",
    "$\n",
    "où :\n",
    "- $\\| Y - X\\beta \\|_2^2 $ est l’erreur quadratique moyenne (MSE),\n",
    "- $\\| \\beta \\|_1 $ est la norme L1 (somme des valeurs absolues des coefficients),\n",
    "- $\\lambda > 0 $ est un **hyperparamètre** qui contrôle l’intensité de la pénalisation.\n",
    "\n",
    "### Choix de l’hyperparamètre $\\lambda $\n",
    "\n",
    "- Si $\\lambda $ est trop petit : le modèle est peu régularisé, risque de surapprentissage.\n",
    "- Si $\\lambda $ est trop grand : trop de coefficients sont annulés, perte d’information.\n",
    "\n",
    "Pour choisir une valeur optimale de $\\lambda$, nous utilisons la **validation croisée**. Cela permet de tester différentes valeurs de $\\lambda$ et de sélectionner celle qui minimise l’erreur de prédiction sur des données non vues (`X_test`et `Y_test`)."
   ]
  },
  {
   "cell_type": "code",
   "execution_count": null,
   "id": "0b3ff149-25c2-4101-bfae-73a3d556881f",
   "metadata": {},
   "outputs": [],
   "source": [
    "#Présentation de la régression Lasso sans pénalisation et des hyperparamètres dont elle dépend"
   ]
  },
  {
   "cell_type": "markdown",
   "id": "476b5cf1-ff88-49b9-a789-de9dc7e5b19d",
   "metadata": {},
   "source": [
    "## Régression linéaire sans pénalisation\n",
    "\n",
    "Le modèle de régression linéaire classique (sans pénalisation) s’écrit sous la forme :\n",
    "\n",
    "$\n",
    "Y = X \\beta + \\varepsilon\n",
    "$\n",
    "\n",
    "où :\n",
    "\n",
    "- ($ Y \\in \\mathbb{R}^n $) représente la consommation d’énergie (notre variable cible),\n",
    "- ($ X \\in \\mathbb{R}^{n \\times d} $) est la matrice des variables explicatives (température, humidité, tension, intensité, etc.),\n",
    "- ($ \\beta \\in \\mathbb{R}^d $) est le vecteur des coefficients à estimer,\n",
    "- ($ \\varepsilon $) est le terme d’erreur.\n",
    "\n",
    "L’estimation de ($ \\beta $) est obtenue en minimisant l’erreur quadratique moyenne (MSE) :\n",
    "\n",
    "$$\n",
    "\\widehat{\\beta} = \\underset{\\beta \\in \\mathbb{R}^d}{\\arg\\min} \\, \\frac{1}{n} \\|Y - X\\beta\\|_2^2\n",
    "$$\n",
    "\n",
    "Cette méthode ne dépend pas d'hyperparamètre."
   ]
  },
  {
   "cell_type": "code",
   "execution_count": null,
   "id": "f626e217-6055-4784-b42a-7d03c74534aa",
   "metadata": {},
   "outputs": [],
   "source": [
    "#Discussion sur les choix d'implémentation et l'influence des différents paramètres sur les résultats"
   ]
  },
  {
   "cell_type": "code",
   "execution_count": null,
   "id": "035fe101-077d-41cb-a477-f0d7e7e2623b",
   "metadata": {},
   "outputs": [],
   "source": [
    "#Implémentation avec réseaux de neurones denses"
   ]
  },
  {
   "cell_type": "code",
   "execution_count": 23,
   "id": "4930c52e-6ba1-487c-b5bb-58f6152c4956",
   "metadata": {},
   "outputs": [],
   "source": [
    "from sklearn.linear_model import Lasso, LassoCV, Ridge, RidgeCV"
   ]
  },
  {
   "cell_type": "code",
   "execution_count": null,
   "id": "d95e9a6b-9404-4dd1-ab28-cfd82e0341a1",
   "metadata": {},
   "outputs": [],
   "source": [
    "#Analyse des performances et des pistes d'amélioration possibles"
   ]
  }
 ],
 "metadata": {
  "kernelspec": {
   "display_name": "Python [conda env:base] *",
   "language": "python",
   "name": "conda-base-py"
  },
  "language_info": {
   "codemirror_mode": {
    "name": "ipython",
    "version": 3
   },
   "file_extension": ".py",
   "mimetype": "text/x-python",
   "name": "python",
   "nbconvert_exporter": "python",
   "pygments_lexer": "ipython3",
   "version": "3.11.4"
  }
 },
 "nbformat": 4,
 "nbformat_minor": 5
}
